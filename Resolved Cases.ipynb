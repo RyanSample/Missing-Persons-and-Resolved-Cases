{
 "cells": [
  {
   "cell_type": "code",
   "execution_count": 1,
   "id": "aa01facc",
   "metadata": {},
   "outputs": [],
   "source": [
    "from bs4 import BeautifulSoup\n",
    "#from bs4 import soupStrainer\n",
    "from urllib.request import urlopen\n",
    "import pandas as pd\n",
    "import re\n",
    "import requests"
   ]
  },
  {
   "cell_type": "code",
   "execution_count": 2,
   "id": "23372225",
   "metadata": {},
   "outputs": [],
   "source": [
    "from string import ascii_uppercase as alc"
   ]
  },
  {
   "cell_type": "code",
   "execution_count": 3,
   "id": "f8f57678",
   "metadata": {},
   "outputs": [],
   "source": [
    "path = f\"https://charleyproject.org/case-updates/resolved?letter=A\"\n",
    "r = requests.get(path)\n",
    "soup = BeautifulSoup(r.text, 'html.parser')\n",
    "linksToCases = soup.find_all('a', href=re.compile('^https://charleyproject.org/case/'))\n",
    "final_links = []\n",
    "for caselink in linksToCases:\n",
    "    final_links.append(caselink.get('href'))"
   ]
  },
  {
   "cell_type": "code",
   "execution_count": 4,
   "id": "0918e97e",
   "metadata": {},
   "outputs": [
    {
     "name": "stderr",
     "output_type": "stream",
     "text": [
      "100%|██████████████████████████████████████████████████████████████████████████████████| 26/26 [00:27<00:00,  1.06s/it]\n"
     ]
    }
   ],
   "source": [
    "from string import ascii_uppercase as alc\n",
    "from tqdm import tqdm\n",
    "final_links = []\n",
    "for i in tqdm(alc):\n",
    "    path = f\"https://charleyproject.org/case-updates/resolved?letter={i}\"\n",
    "    r = requests.get(path)\n",
    "    soup = BeautifulSoup(r.text, 'html.parser')\n",
    "    linksToCases = soup.find_all('a', href=re.compile('^https://charleyproject.org/case/'))\n",
    "    \n",
    "    for caselink in linksToCases:\n",
    "        final_links.append(caselink.get('href'))"
   ]
  },
  {
   "cell_type": "code",
   "execution_count": 5,
   "id": "1fd4cecf",
   "metadata": {},
   "outputs": [],
   "source": [
    "r = requests.get(path)\n",
    "soup = BeautifulSoup(r.text, 'html.parser')\n",
    "results = soup.find_all('div', attrs={'class':'cases'})"
   ]
  },
  {
   "cell_type": "code",
   "execution_count": 6,
   "id": "15b808d0",
   "metadata": {},
   "outputs": [],
   "source": [
    "link = []\n",
    "for a_tag in soup.find_all('a'):\n",
    "    #if link[link['Links:'].str.contains(\"https://charleyproject.org/case/\")]:\n",
    "    link.append(a_tag.get('href'))"
   ]
  },
  {
   "cell_type": "code",
   "execution_count": 7,
   "id": "e7ddbe8b",
   "metadata": {},
   "outputs": [
    {
     "ename": "KeyError",
     "evalue": "'Link:'",
     "output_type": "error",
     "traceback": [
      "\u001b[1;31m---------------------------------------------------------------------------\u001b[0m",
      "\u001b[1;31mKeyError\u001b[0m                                  Traceback (most recent call last)",
      "File \u001b[1;32m~\\anaconda3\\lib\\site-packages\\pandas\\core\\indexes\\base.py:3802\u001b[0m, in \u001b[0;36mIndex.get_loc\u001b[1;34m(self, key, method, tolerance)\u001b[0m\n\u001b[0;32m   3801\u001b[0m \u001b[38;5;28;01mtry\u001b[39;00m:\n\u001b[1;32m-> 3802\u001b[0m     \u001b[38;5;28;01mreturn\u001b[39;00m \u001b[38;5;28;43mself\u001b[39;49m\u001b[38;5;241;43m.\u001b[39;49m\u001b[43m_engine\u001b[49m\u001b[38;5;241;43m.\u001b[39;49m\u001b[43mget_loc\u001b[49m\u001b[43m(\u001b[49m\u001b[43mcasted_key\u001b[49m\u001b[43m)\u001b[49m\n\u001b[0;32m   3803\u001b[0m \u001b[38;5;28;01mexcept\u001b[39;00m \u001b[38;5;167;01mKeyError\u001b[39;00m \u001b[38;5;28;01mas\u001b[39;00m err:\n",
      "File \u001b[1;32m~\\anaconda3\\lib\\site-packages\\pandas\\_libs\\index.pyx:138\u001b[0m, in \u001b[0;36mpandas._libs.index.IndexEngine.get_loc\u001b[1;34m()\u001b[0m\n",
      "File \u001b[1;32m~\\anaconda3\\lib\\site-packages\\pandas\\_libs\\index.pyx:165\u001b[0m, in \u001b[0;36mpandas._libs.index.IndexEngine.get_loc\u001b[1;34m()\u001b[0m\n",
      "File \u001b[1;32mpandas\\_libs\\hashtable_class_helper.pxi:5745\u001b[0m, in \u001b[0;36mpandas._libs.hashtable.PyObjectHashTable.get_item\u001b[1;34m()\u001b[0m\n",
      "File \u001b[1;32mpandas\\_libs\\hashtable_class_helper.pxi:5753\u001b[0m, in \u001b[0;36mpandas._libs.hashtable.PyObjectHashTable.get_item\u001b[1;34m()\u001b[0m\n",
      "\u001b[1;31mKeyError\u001b[0m: 'Link:'",
      "\nThe above exception was the direct cause of the following exception:\n",
      "\u001b[1;31mKeyError\u001b[0m                                  Traceback (most recent call last)",
      "Cell \u001b[1;32mIn[7], line 5\u001b[0m\n\u001b[0;32m      3\u001b[0m link \u001b[38;5;241m=\u001b[39m link\u001b[38;5;241m.\u001b[39mrename(columns\u001b[38;5;241m=\u001b[39m{\u001b[38;5;241m0\u001b[39m: \u001b[38;5;124m'\u001b[39m\u001b[38;5;124mLinks:\u001b[39m\u001b[38;5;124m'\u001b[39m})\n\u001b[0;32m      4\u001b[0m link \u001b[38;5;241m=\u001b[39m link\u001b[38;5;241m.\u001b[39mdropna()\n\u001b[1;32m----> 5\u001b[0m link \u001b[38;5;241m=\u001b[39m link[\u001b[43mlink\u001b[49m\u001b[43m[\u001b[49m\u001b[38;5;124;43m'\u001b[39;49m\u001b[38;5;124;43mLink:\u001b[39;49m\u001b[38;5;124;43m'\u001b[39;49m\u001b[43m]\u001b[49m\u001b[38;5;241m.\u001b[39mstr\u001b[38;5;241m.\u001b[39mcontains(\u001b[38;5;124m\"\u001b[39m\u001b[38;5;124mhttps://charleyproject.org/case/\u001b[39m\u001b[38;5;124m\"\u001b[39m)]\n\u001b[0;32m      6\u001b[0m link \u001b[38;5;241m=\u001b[39m link\u001b[38;5;241m.\u001b[39mreset_index(drop\u001b[38;5;241m=\u001b[39m\u001b[38;5;28;01mTrue\u001b[39;00m)\n",
      "File \u001b[1;32m~\\anaconda3\\lib\\site-packages\\pandas\\core\\frame.py:3807\u001b[0m, in \u001b[0;36mDataFrame.__getitem__\u001b[1;34m(self, key)\u001b[0m\n\u001b[0;32m   3805\u001b[0m \u001b[38;5;28;01mif\u001b[39;00m \u001b[38;5;28mself\u001b[39m\u001b[38;5;241m.\u001b[39mcolumns\u001b[38;5;241m.\u001b[39mnlevels \u001b[38;5;241m>\u001b[39m \u001b[38;5;241m1\u001b[39m:\n\u001b[0;32m   3806\u001b[0m     \u001b[38;5;28;01mreturn\u001b[39;00m \u001b[38;5;28mself\u001b[39m\u001b[38;5;241m.\u001b[39m_getitem_multilevel(key)\n\u001b[1;32m-> 3807\u001b[0m indexer \u001b[38;5;241m=\u001b[39m \u001b[38;5;28;43mself\u001b[39;49m\u001b[38;5;241;43m.\u001b[39;49m\u001b[43mcolumns\u001b[49m\u001b[38;5;241;43m.\u001b[39;49m\u001b[43mget_loc\u001b[49m\u001b[43m(\u001b[49m\u001b[43mkey\u001b[49m\u001b[43m)\u001b[49m\n\u001b[0;32m   3808\u001b[0m \u001b[38;5;28;01mif\u001b[39;00m is_integer(indexer):\n\u001b[0;32m   3809\u001b[0m     indexer \u001b[38;5;241m=\u001b[39m [indexer]\n",
      "File \u001b[1;32m~\\anaconda3\\lib\\site-packages\\pandas\\core\\indexes\\base.py:3804\u001b[0m, in \u001b[0;36mIndex.get_loc\u001b[1;34m(self, key, method, tolerance)\u001b[0m\n\u001b[0;32m   3802\u001b[0m     \u001b[38;5;28;01mreturn\u001b[39;00m \u001b[38;5;28mself\u001b[39m\u001b[38;5;241m.\u001b[39m_engine\u001b[38;5;241m.\u001b[39mget_loc(casted_key)\n\u001b[0;32m   3803\u001b[0m \u001b[38;5;28;01mexcept\u001b[39;00m \u001b[38;5;167;01mKeyError\u001b[39;00m \u001b[38;5;28;01mas\u001b[39;00m err:\n\u001b[1;32m-> 3804\u001b[0m     \u001b[38;5;28;01mraise\u001b[39;00m \u001b[38;5;167;01mKeyError\u001b[39;00m(key) \u001b[38;5;28;01mfrom\u001b[39;00m \u001b[38;5;21;01merr\u001b[39;00m\n\u001b[0;32m   3805\u001b[0m \u001b[38;5;28;01mexcept\u001b[39;00m \u001b[38;5;167;01mTypeError\u001b[39;00m:\n\u001b[0;32m   3806\u001b[0m     \u001b[38;5;66;03m# If we have a listlike key, _check_indexing_error will raise\u001b[39;00m\n\u001b[0;32m   3807\u001b[0m     \u001b[38;5;66;03m#  InvalidIndexError. Otherwise we fall through and re-raise\u001b[39;00m\n\u001b[0;32m   3808\u001b[0m     \u001b[38;5;66;03m#  the TypeError.\u001b[39;00m\n\u001b[0;32m   3809\u001b[0m     \u001b[38;5;28mself\u001b[39m\u001b[38;5;241m.\u001b[39m_check_indexing_error(key)\n",
      "\u001b[1;31mKeyError\u001b[0m: 'Link:'"
     ]
    }
   ],
   "source": [
    "#if contains 'https://charleyproject.org/case/ return to new df.\n",
    "link = pd.DataFrame(final_links)\n",
    "link = link.rename(columns={0: 'Links:'})\n",
    "link = link.dropna()\n",
    "link = link[link['Link:'].str.contains(\"https://charleyproject.org/case/\")]\n",
    "link = link.reset_index(drop=True)"
   ]
  },
  {
   "cell_type": "code",
   "execution_count": 9,
   "id": "c998da43",
   "metadata": {},
   "outputs": [],
   "source": [
    "resolved_df = pd.DataFrame()"
   ]
  },
  {
   "cell_type": "code",
   "execution_count": null,
   "id": "a7f7e787",
   "metadata": {
    "scrolled": true
   },
   "outputs": [
    {
     "name": "stderr",
     "output_type": "stream",
     "text": [
      " 43%|█████████████████████████████████▉                                             | 811/1886 [10:58<14:56,  1.20it/s]"
     ]
    }
   ],
   "source": [
    "#details = []\n",
    "for i in tqdm(range(0, (link.size-1))):\n",
    "    link_str = link.at[i, 'Links:']\n",
    "    r2 = requests.get(link_str)\n",
    "    soup2 = BeautifulSoup(r2.text, 'html.parser')\n",
    "\n",
    "    person = {\"Link:\": [link_str],\n",
    "            \"Name\": [soup2.find('h1').get_text()],}\n",
    "    \n",
    "    element = soup2.find_all('p')\n",
    "    \n",
    "    #details = {\"Links:\": [link_str],\n",
    "            #\"Details\": \n",
    "    #details.append(element[1])\n",
    "   \n",
    "    #print(details)\n",
    "        \n",
    "    #i = 0\n",
    "\n",
    "    for strong_tag in soup2.find_all('strong'):\n",
    "        k = strong_tag.text.strip()\n",
    "        v = strong_tag.next_sibling.strip()\n",
    "        person[k] = [v]\n",
    "\n",
    "        #i+=1\n",
    "        \n",
    "    person[\"Details of Disappearance\"] = [element[1].string]\n",
    "\n",
    "\n",
    "    persondf = pd.DataFrame(person)\n",
    "\n",
    "    if not resolved_df.empty:\n",
    "        resolved_df = pd.merge(resolved_df, persondf, how='outer')\n",
    "    else:\n",
    "        resolved_df = persondf\n",
    "\n",
    "\n",
    "resolved_df"
   ]
  },
  {
   "cell_type": "code",
   "execution_count": null,
   "id": "92cb3b93",
   "metadata": {},
   "outputs": [],
   "source": [
    "resolved_df['Missing From'] = resolved_df['Missing From'].str.replace(' \t\t\t\t\t\t\t\t', ' ')"
   ]
  },
  {
   "cell_type": "code",
   "execution_count": null,
   "id": "54eac7cd",
   "metadata": {},
   "outputs": [],
   "source": [
    "resolved_df['Details of Disappearance'] = resolved_df['Details of Disappearance'].str.replace('[', '')"
   ]
  },
  {
   "cell_type": "code",
   "execution_count": null,
   "id": "6a36ea63",
   "metadata": {},
   "outputs": [],
   "source": [
    "resolved_df['Details of Disappearance']"
   ]
  },
  {
   "cell_type": "code",
   "execution_count": null,
   "id": "a2fa5ea8",
   "metadata": {},
   "outputs": [],
   "source": [
    "resolved_df.to_excel(\"all_together_now.xlsx\")"
   ]
  },
  {
   "cell_type": "code",
   "execution_count": null,
   "id": "b1259d3c",
   "metadata": {},
   "outputs": [],
   "source": []
  }
 ],
 "metadata": {
  "kernelspec": {
   "display_name": "Python 3 (ipykernel)",
   "language": "python",
   "name": "python3"
  },
  "language_info": {
   "codemirror_mode": {
    "name": "ipython",
    "version": 3
   },
   "file_extension": ".py",
   "mimetype": "text/x-python",
   "name": "python",
   "nbconvert_exporter": "python",
   "pygments_lexer": "ipython3",
   "version": "3.10.9"
  }
 },
 "nbformat": 4,
 "nbformat_minor": 5
}
