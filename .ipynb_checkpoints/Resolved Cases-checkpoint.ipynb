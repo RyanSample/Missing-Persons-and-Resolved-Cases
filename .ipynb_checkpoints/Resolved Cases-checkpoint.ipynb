{
 "cells": [
  {
   "cell_type": "code",
   "execution_count": null,
   "id": "aa01facc",
   "metadata": {},
   "outputs": [],
   "source": [
    "from bs4 import BeautifulSoup\n",
    "from urllib.request import urlopen\n",
    "import pandas as pd\n",
    "import re\n",
    "import requests"
   ]
  },
  {
   "cell_type": "code",
   "execution_count": null,
   "id": "23372225",
   "metadata": {},
   "outputs": [],
   "source": [
    "from string import ascii_uppercase as alc"
   ]
  },
  {
   "cell_type": "code",
   "execution_count": null,
   "id": "f8f57678",
   "metadata": {},
   "outputs": [],
   "source": [
    "path = f\"https://charleyproject.org/case-updates/resolved?letter=A\"\n",
    "r = requests.get(path)\n",
    "soup = BeautifulSoup(r.text, 'html.parser')\n",
    "linksToCases = soup.find_all('a', href=re.compile('^https://charleyproject.org/case/'))\n",
    "final_links = []\n",
    "for caselink in linksToCases:\n",
    "    final_links.append(caselink.get('href'))"
   ]
  },
  {
   "cell_type": "code",
   "execution_count": null,
   "id": "0918e97e",
   "metadata": {},
   "outputs": [],
   "source": [
    "from string import ascii_uppercase as alc\n",
    "from tqdm import tqdm\n",
    "final_links = []\n",
    "for i in tqdm(alc):\n",
    "    path = f\"https://charleyproject.org/case-updates/resolved?letter={i}\"\n",
    "    r = requests.get(path)\n",
    "    soup = BeautifulSoup(r.text, 'html.parser')\n",
    "    linksToCases = soup.find_all('a', href=re.compile('^https://charleyproject.org/case/'))\n",
    "    \n",
    "    for caselink in linksToCases:\n",
    "        final_links.append(caselink.get('href'))"
   ]
  },
  {
   "cell_type": "code",
   "execution_count": null,
   "id": "1fd4cecf",
   "metadata": {},
   "outputs": [],
   "source": [
    "r = requests.get(path)\n",
    "soup = BeautifulSoup(r.text, 'html.parser')\n",
    "results = soup.find_all('div', attrs={'class':'cases'})"
   ]
  },
  {
   "cell_type": "code",
   "execution_count": null,
   "id": "15b808d0",
   "metadata": {},
   "outputs": [],
   "source": [
    "link = []\n",
    "for a_tag in soup.find_all('a'):\n",
    "    #if link[link['Links:'].str.contains(\"https://charleyproject.org/case/\")]:\n",
    "    link.append(a_tag.get('href'))"
   ]
  },
  {
   "cell_type": "code",
   "execution_count": null,
   "id": "e7ddbe8b",
   "metadata": {},
   "outputs": [],
   "source": [
    "#if contains 'https://charleyproject.org/case/ return to new df.\n",
    "link = pd.DataFrame(final_links)\n",
    "link = link.rename(columns={0: 'Links:'})\n",
    "link = link.dropna()\n",
    "link = link[link['Link:'].str.contains(\"https://charleyproject.org/case/\")]\n",
    "link = link.reset_index(drop=True)"
   ]
  },
  {
   "cell_type": "code",
   "execution_count": null,
   "id": "c998da43",
   "metadata": {},
   "outputs": [],
   "source": [
    "resolved_df = pd.DataFrame()"
   ]
  },
  {
   "cell_type": "code",
   "execution_count": null,
   "id": "a7f7e787",
   "metadata": {
    "scrolled": true
   },
   "outputs": [],
   "source": [
    "#details = []\n",
    "for i in tqdm(range(0, (link.size-1))):\n",
    "    link_str = link.at[i, 'Links:']\n",
    "    r2 = requests.get(link_str)\n",
    "    soup2 = BeautifulSoup(r2.text, 'html.parser')\n",
    "\n",
    "    person = {\"Link:\": [link_str],\n",
    "            \"Name\": [soup2.find('h1').get_text()],}\n",
    "    \n",
    "    element = soup2.find_all('p')\n",
    "    \n",
    "    #details = {\"Links:\": [link_str],\n",
    "            #\"Details\": \n",
    "    #details.append(element[1])\n",
    "   \n",
    "    #print(details)\n",
    "        \n",
    "    #i = 0\n",
    "\n",
    "    for strong_tag in soup2.find_all('strong'):\n",
    "        k = strong_tag.text.strip()\n",
    "        v = strong_tag.next_sibling.strip()\n",
    "        person[k] = [v]\n",
    "\n",
    "        #i+=1\n",
    "        \n",
    "    person[\"Details of Disappearance\"] = [element[1].string]\n",
    "\n",
    "\n",
    "    persondf = pd.DataFrame(person)\n",
    "\n",
    "    if not resolved_df.empty:\n",
    "        resolved_df = pd.merge(resolved_df, persondf, how='outer')\n",
    "    else:\n",
    "        resolved_df = persondf\n",
    "\n",
    "\n",
    "resolved_df"
   ]
  },
  {
   "cell_type": "code",
   "execution_count": null,
   "id": "92cb3b93",
   "metadata": {},
   "outputs": [],
   "source": [
    "resolved_df['Missing From'] = resolved_df['Missing From'].str.replace(' \t\t\t\t\t\t\t\t', ' ')"
   ]
  },
  {
   "cell_type": "code",
   "execution_count": null,
   "id": "54eac7cd",
   "metadata": {},
   "outputs": [],
   "source": [
    "resolved_df['Details of Disappearance'] = resolved_df['Details of Disappearance'].str.replace('[', '')"
   ]
  },
  {
   "cell_type": "code",
   "execution_count": null,
   "id": "6a36ea63",
   "metadata": {},
   "outputs": [],
   "source": [
    "resolved_df['Details of Disappearance']"
   ]
  },
  {
   "cell_type": "code",
   "execution_count": null,
   "id": "a2fa5ea8",
   "metadata": {},
   "outputs": [],
   "source": [
    "resolved_df.to_excel(\"all_together_now.xlsx\")"
   ]
  },
  {
   "cell_type": "code",
   "execution_count": null,
   "id": "b1259d3c",
   "metadata": {},
   "outputs": [],
   "source": []
  }
 ],
 "metadata": {
  "kernelspec": {
   "display_name": "Python 3 (ipykernel)",
   "language": "python",
   "name": "python3"
  },
  "language_info": {
   "codemirror_mode": {
    "name": "ipython",
    "version": 3
   },
   "file_extension": ".py",
   "mimetype": "text/x-python",
   "name": "python",
   "nbconvert_exporter": "python",
   "pygments_lexer": "ipython3",
   "version": "3.10.9"
  }
 },
 "nbformat": 4,
 "nbformat_minor": 5
}
